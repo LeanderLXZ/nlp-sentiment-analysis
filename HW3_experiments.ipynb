{
 "cells": [
  {
   "cell_type": "code",
   "execution_count": 1,
   "metadata": {},
   "outputs": [],
   "source": [
    "import gensim \n",
    "import logging\n",
    "import warnings\n",
    "import nltk\n",
    "warnings.filterwarnings(\"ignore\")\n",
    "logging.basicConfig(format='%(asctime)s : %(levelname)s : %(message)s', level=logging.INFO)"
   ]
  },
  {
   "cell_type": "markdown",
   "metadata": {},
   "source": [
    "# Preprocessing"
   ]
  },
  {
   "cell_type": "code",
   "execution_count": 2,
   "metadata": {},
   "outputs": [],
   "source": [
    "import pandas as pd\n",
    "import numpy as np\n",
    "import re"
   ]
  },
  {
   "cell_type": "code",
   "execution_count": 3,
   "metadata": {},
   "outputs": [],
   "source": [
    "df_train = pd.read_csv('train.csv')\n",
    "df_test = pd.read_csv('test.csv')"
   ]
  },
  {
   "cell_type": "code",
   "execution_count": 4,
   "metadata": {},
   "outputs": [],
   "source": [
    "y_train = df_train['label']\n",
    "y_test = df_test['label']"
   ]
  },
  {
   "cell_type": "code",
   "execution_count": 5,
   "metadata": {},
   "outputs": [
    {
     "data": {
      "text/html": [
       "<div>\n",
       "<style scoped>\n",
       "    .dataframe tbody tr th:only-of-type {\n",
       "        vertical-align: middle;\n",
       "    }\n",
       "\n",
       "    .dataframe tbody tr th {\n",
       "        vertical-align: top;\n",
       "    }\n",
       "\n",
       "    .dataframe thead th {\n",
       "        text-align: right;\n",
       "    }\n",
       "</style>\n",
       "<table border=\"1\" class=\"dataframe\">\n",
       "  <thead>\n",
       "    <tr style=\"text-align: right;\">\n",
       "      <th></th>\n",
       "      <th>id</th>\n",
       "      <th>label</th>\n",
       "      <th>tweet</th>\n",
       "    </tr>\n",
       "  </thead>\n",
       "  <tbody>\n",
       "    <tr>\n",
       "      <th>0</th>\n",
       "      <td>1</td>\n",
       "      <td>0</td>\n",
       "      <td>@user when a father is dysfunctional and is s...</td>\n",
       "    </tr>\n",
       "    <tr>\n",
       "      <th>1</th>\n",
       "      <td>2</td>\n",
       "      <td>0</td>\n",
       "      <td>@user @user thanks for #lyft credit i can't us...</td>\n",
       "    </tr>\n",
       "    <tr>\n",
       "      <th>2</th>\n",
       "      <td>3</td>\n",
       "      <td>0</td>\n",
       "      <td>bihday your majesty</td>\n",
       "    </tr>\n",
       "    <tr>\n",
       "      <th>3</th>\n",
       "      <td>4</td>\n",
       "      <td>0</td>\n",
       "      <td>#model   i love u take with u all the time in ...</td>\n",
       "    </tr>\n",
       "    <tr>\n",
       "      <th>4</th>\n",
       "      <td>5</td>\n",
       "      <td>0</td>\n",
       "      <td>factsguide: society now    #motivation</td>\n",
       "    </tr>\n",
       "  </tbody>\n",
       "</table>\n",
       "</div>"
      ],
      "text/plain": [
       "   id  label                                              tweet\n",
       "0   1      0   @user when a father is dysfunctional and is s...\n",
       "1   2      0  @user @user thanks for #lyft credit i can't us...\n",
       "2   3      0                                bihday your majesty\n",
       "3   4      0  #model   i love u take with u all the time in ...\n",
       "4   5      0             factsguide: society now    #motivation"
      ]
     },
     "execution_count": 5,
     "metadata": {},
     "output_type": "execute_result"
    }
   ],
   "source": [
    "df_train.head(5)"
   ]
  },
  {
   "cell_type": "code",
   "execution_count": 6,
   "metadata": {},
   "outputs": [
    {
     "data": {
      "text/plain": [
       "\"i hope the guy won't say how come  only trump gets to speak his mind ð\\x9f\\x98\\xad..people! enough with the pc already #sarcasmâ\\x80¦ \""
      ]
     },
     "execution_count": 6,
     "metadata": {},
     "output_type": "execute_result"
    }
   ],
   "source": [
    "df_test.iloc[2]['tweet']"
   ]
  },
  {
   "cell_type": "code",
   "execution_count": 7,
   "metadata": {},
   "outputs": [
    {
     "data": {
      "text/plain": [
       "'  bihdayð\\x9f\\x92\\x97                              ã\\x80\\x8c @user ã\\x80\\x8d '"
      ]
     },
     "execution_count": 7,
     "metadata": {},
     "output_type": "execute_result"
    }
   ],
   "source": [
    "df_test.iloc[10]['tweet']"
   ]
  },
  {
   "cell_type": "code",
   "execution_count": 8,
   "metadata": {},
   "outputs": [],
   "source": [
    "from nltk.corpus import stopwords\n",
    "from nltk.stem import WordNetLemmatizer\n",
    "\n",
    "def preprocess(text):\n",
    "    # Change text to lower cases\n",
    "    text = text.lower()\n",
    "    # Remove all mentions\n",
    "    text = re.sub(r'@[\\w]*', ' ', text)\n",
    "    # Remove all hashtags\n",
    "    text = re.sub(r'#[\\w]*', ' ', text)\n",
    "    # Remove non-words using regular expressions\n",
    "    text = re.sub(r'\\W+',' ', text)\n",
    "    # Remove digits\n",
    "    text= re.sub(r'\\d+', ' ', text)\n",
    "    # Remove single characters\n",
    "    text = re.sub(r'\\s+[a-zA-Z]\\s+', ' ', text)\n",
    "    review = re.sub(r'^[a-zA-Z]\\s+', ' ', text)\n",
    "    review = re.sub(r'\\s+[a-zA-Z]$', ' ', text)\n",
    "    # Remove all non-alphanumeric chars\n",
    "    text = re.sub(r'[^a-zA-Z\\s]', ' ', text)\n",
    "    # Remove extra spaces\n",
    "    text = re.sub(r'\\s+', ' ', text)\n",
    "    text = re.sub(r'^\\s', '', text)\n",
    "    text = re.sub(r'\\s$', '', text)\n",
    "    # Remove stop words and capture semantically related words\n",
    "    lemmatizer = WordNetLemmatizer()\n",
    "    text = [lemmatizer.lemmatize(w) for w in text.split() if w not in stopwords.words('english')]\n",
    "    return text"
   ]
  },
  {
   "cell_type": "code",
   "execution_count": 9,
   "metadata": {},
   "outputs": [],
   "source": [
    "x_test = [preprocess(x) for x in df_test['tweet']]\n",
    "x_train = [preprocess(x) for x in df_train['tweet']]"
   ]
  },
  {
   "cell_type": "code",
   "execution_count": 10,
   "metadata": {},
   "outputs": [
    {
     "data": {
      "text/plain": [
       "[['father', 'dysfunctional', 'selfish', 'drag', 'kid', 'dysfunction'],\n",
       " ['thanks', 'credit', 'use', 'cause', 'offer', 'wheelchair', 'van', 'pdx']]"
      ]
     },
     "execution_count": 10,
     "metadata": {},
     "output_type": "execute_result"
    }
   ],
   "source": [
    "x_train[:2]"
   ]
  },
  {
   "cell_type": "markdown",
   "metadata": {},
   "source": [
    "# Training Word2Vec"
   ]
  },
  {
   "cell_type": "code",
   "execution_count": 11,
   "metadata": {},
   "outputs": [
    {
     "name": "stderr",
     "output_type": "stream",
     "text": [
      "2020-11-15 19:12:04,355 : WARNING : consider setting layer size to a multiple of 4 for greater performance\n",
      "2020-11-15 19:12:04,356 : INFO : collecting all words and their counts\n",
      "2020-11-15 19:12:04,357 : INFO : PROGRESS: at sentence #0, processed 0 words, keeping 0 word types\n",
      "2020-11-15 19:12:04,368 : INFO : PROGRESS: at sentence #10000, processed 53624 words, keeping 10161 word types\n",
      "2020-11-15 19:12:04,381 : INFO : PROGRESS: at sentence #20000, processed 106843 words, keeping 14811 word types\n",
      "2020-11-15 19:12:04,384 : INFO : collected 15557 word types from a corpus of 117522 raw words and 21962 sentences\n",
      "2020-11-15 19:12:04,385 : INFO : Loading a fresh vocabulary\n",
      "2020-11-15 19:12:04,397 : INFO : effective_min_count=2 retains 7381 unique words (47% of original 15557, drops 8176)\n",
      "2020-11-15 19:12:04,398 : INFO : effective_min_count=2 leaves 109346 word corpus (93% of original 117522, drops 8176)\n",
      "2020-11-15 19:12:04,417 : INFO : deleting the raw counts dictionary of 15557 items\n",
      "2020-11-15 19:12:04,418 : INFO : sample=0.001 downsamples 44 most-common words\n",
      "2020-11-15 19:12:04,418 : INFO : downsampling leaves estimated 101921 word corpus (93.2% of prior 109346)\n",
      "2020-11-15 19:12:04,431 : INFO : estimated required memory for 7381 words and 150 dimensions: 12547700 bytes\n",
      "2020-11-15 19:12:04,431 : INFO : resetting layer weights\n",
      "2020-11-15 19:12:05,573 : INFO : training model with 10 workers on 7381 vocabulary and 150 features, using sg=0 hs=0 sample=0.001 negative=5 window=10\n",
      "2020-11-15 19:12:05,627 : INFO : worker thread finished; awaiting finish of 9 more threads\n",
      "2020-11-15 19:12:05,628 : INFO : worker thread finished; awaiting finish of 8 more threads\n",
      "2020-11-15 19:12:05,629 : INFO : worker thread finished; awaiting finish of 7 more threads\n",
      "2020-11-15 19:12:05,633 : INFO : worker thread finished; awaiting finish of 6 more threads\n",
      "2020-11-15 19:12:05,634 : INFO : worker thread finished; awaiting finish of 5 more threads\n",
      "2020-11-15 19:12:05,635 : INFO : worker thread finished; awaiting finish of 4 more threads\n",
      "2020-11-15 19:12:05,636 : INFO : worker thread finished; awaiting finish of 3 more threads\n",
      "2020-11-15 19:12:05,637 : INFO : worker thread finished; awaiting finish of 2 more threads\n",
      "2020-11-15 19:12:05,638 : INFO : worker thread finished; awaiting finish of 1 more threads\n",
      "2020-11-15 19:12:05,639 : INFO : worker thread finished; awaiting finish of 0 more threads\n",
      "2020-11-15 19:12:05,639 : INFO : EPOCH - 1 : training on 117522 raw words (101808 effective words) took 0.1s, 1862283 effective words/s\n",
      "2020-11-15 19:12:05,693 : INFO : worker thread finished; awaiting finish of 9 more threads\n",
      "2020-11-15 19:12:05,695 : INFO : worker thread finished; awaiting finish of 8 more threads\n",
      "2020-11-15 19:12:05,696 : INFO : worker thread finished; awaiting finish of 7 more threads\n",
      "2020-11-15 19:12:05,697 : INFO : worker thread finished; awaiting finish of 6 more threads\n",
      "2020-11-15 19:12:05,699 : INFO : worker thread finished; awaiting finish of 5 more threads\n",
      "2020-11-15 19:12:05,700 : INFO : worker thread finished; awaiting finish of 4 more threads\n",
      "2020-11-15 19:12:05,701 : INFO : worker thread finished; awaiting finish of 3 more threads\n",
      "2020-11-15 19:12:05,702 : INFO : worker thread finished; awaiting finish of 2 more threads\n",
      "2020-11-15 19:12:05,705 : INFO : worker thread finished; awaiting finish of 1 more threads\n",
      "2020-11-15 19:12:05,707 : INFO : worker thread finished; awaiting finish of 0 more threads\n",
      "2020-11-15 19:12:05,708 : INFO : EPOCH - 2 : training on 117522 raw words (101861 effective words) took 0.1s, 1675594 effective words/s\n",
      "2020-11-15 19:12:05,767 : INFO : worker thread finished; awaiting finish of 9 more threads\n",
      "2020-11-15 19:12:05,768 : INFO : worker thread finished; awaiting finish of 8 more threads\n",
      "2020-11-15 19:12:05,769 : INFO : worker thread finished; awaiting finish of 7 more threads\n",
      "2020-11-15 19:12:05,769 : INFO : worker thread finished; awaiting finish of 6 more threads\n",
      "2020-11-15 19:12:05,770 : INFO : worker thread finished; awaiting finish of 5 more threads\n",
      "2020-11-15 19:12:05,771 : INFO : worker thread finished; awaiting finish of 4 more threads\n",
      "2020-11-15 19:12:05,772 : INFO : worker thread finished; awaiting finish of 3 more threads\n",
      "2020-11-15 19:12:05,773 : INFO : worker thread finished; awaiting finish of 2 more threads\n",
      "2020-11-15 19:12:05,775 : INFO : worker thread finished; awaiting finish of 1 more threads\n",
      "2020-11-15 19:12:05,777 : INFO : worker thread finished; awaiting finish of 0 more threads\n",
      "2020-11-15 19:12:05,777 : INFO : EPOCH - 3 : training on 117522 raw words (101882 effective words) took 0.1s, 1694895 effective words/s\n",
      "2020-11-15 19:12:05,827 : INFO : worker thread finished; awaiting finish of 9 more threads\n",
      "2020-11-15 19:12:05,833 : INFO : worker thread finished; awaiting finish of 8 more threads\n",
      "2020-11-15 19:12:05,834 : INFO : worker thread finished; awaiting finish of 7 more threads\n",
      "2020-11-15 19:12:05,835 : INFO : worker thread finished; awaiting finish of 6 more threads\n",
      "2020-11-15 19:12:05,836 : INFO : worker thread finished; awaiting finish of 5 more threads\n",
      "2020-11-15 19:12:05,836 : INFO : worker thread finished; awaiting finish of 4 more threads\n",
      "2020-11-15 19:12:05,840 : INFO : worker thread finished; awaiting finish of 3 more threads\n",
      "2020-11-15 19:12:05,842 : INFO : worker thread finished; awaiting finish of 2 more threads\n",
      "2020-11-15 19:12:05,843 : INFO : worker thread finished; awaiting finish of 1 more threads\n",
      "2020-11-15 19:12:05,843 : INFO : worker thread finished; awaiting finish of 0 more threads\n",
      "2020-11-15 19:12:05,844 : INFO : EPOCH - 4 : training on 117522 raw words (101986 effective words) took 0.1s, 1779148 effective words/s\n",
      "2020-11-15 19:12:05,893 : INFO : worker thread finished; awaiting finish of 9 more threads\n",
      "2020-11-15 19:12:05,899 : INFO : worker thread finished; awaiting finish of 8 more threads\n",
      "2020-11-15 19:12:05,900 : INFO : worker thread finished; awaiting finish of 7 more threads\n",
      "2020-11-15 19:12:05,902 : INFO : worker thread finished; awaiting finish of 6 more threads\n",
      "2020-11-15 19:12:05,903 : INFO : worker thread finished; awaiting finish of 5 more threads\n",
      "2020-11-15 19:12:05,904 : INFO : worker thread finished; awaiting finish of 4 more threads\n",
      "2020-11-15 19:12:05,908 : INFO : worker thread finished; awaiting finish of 3 more threads\n",
      "2020-11-15 19:12:05,910 : INFO : worker thread finished; awaiting finish of 2 more threads\n",
      "2020-11-15 19:12:05,911 : INFO : worker thread finished; awaiting finish of 1 more threads\n",
      "2020-11-15 19:12:05,911 : INFO : worker thread finished; awaiting finish of 0 more threads\n",
      "2020-11-15 19:12:05,912 : INFO : EPOCH - 5 : training on 117522 raw words (101924 effective words) took 0.1s, 1780197 effective words/s\n",
      "2020-11-15 19:12:05,912 : INFO : training on a 587610 raw words (509461 effective words) took 0.3s, 1505774 effective words/s\n",
      "2020-11-15 19:12:05,913 : WARNING : under 10 jobs per worker: consider setting a smaller `batch_words' for smoother alpha decay\n",
      "2020-11-15 19:12:05,913 : WARNING : Effective 'alpha' higher than previous training cycles\n",
      "2020-11-15 19:12:05,914 : INFO : training model with 10 workers on 7381 vocabulary and 150 features, using sg=0 hs=0 sample=0.001 negative=5 window=10\n",
      "2020-11-15 19:12:05,967 : INFO : worker thread finished; awaiting finish of 9 more threads\n",
      "2020-11-15 19:12:05,972 : INFO : worker thread finished; awaiting finish of 8 more threads\n",
      "2020-11-15 19:12:05,973 : INFO : worker thread finished; awaiting finish of 7 more threads\n",
      "2020-11-15 19:12:05,973 : INFO : worker thread finished; awaiting finish of 6 more threads\n",
      "2020-11-15 19:12:05,975 : INFO : worker thread finished; awaiting finish of 5 more threads\n",
      "2020-11-15 19:12:05,976 : INFO : worker thread finished; awaiting finish of 4 more threads\n",
      "2020-11-15 19:12:05,977 : INFO : worker thread finished; awaiting finish of 3 more threads\n",
      "2020-11-15 19:12:05,980 : INFO : worker thread finished; awaiting finish of 2 more threads\n",
      "2020-11-15 19:12:05,982 : INFO : worker thread finished; awaiting finish of 1 more threads\n",
      "2020-11-15 19:12:05,982 : INFO : worker thread finished; awaiting finish of 0 more threads\n",
      "2020-11-15 19:12:05,983 : INFO : EPOCH - 1 : training on 117522 raw words (101883 effective words) took 0.1s, 1705733 effective words/s\n"
     ]
    },
    {
     "name": "stderr",
     "output_type": "stream",
     "text": [
      "2020-11-15 19:12:06,033 : INFO : worker thread finished; awaiting finish of 9 more threads\n",
      "2020-11-15 19:12:06,039 : INFO : worker thread finished; awaiting finish of 8 more threads\n",
      "2020-11-15 19:12:06,041 : INFO : worker thread finished; awaiting finish of 7 more threads\n",
      "2020-11-15 19:12:06,041 : INFO : worker thread finished; awaiting finish of 6 more threads\n",
      "2020-11-15 19:12:06,043 : INFO : worker thread finished; awaiting finish of 5 more threads\n",
      "2020-11-15 19:12:06,044 : INFO : worker thread finished; awaiting finish of 4 more threads\n",
      "2020-11-15 19:12:06,045 : INFO : worker thread finished; awaiting finish of 3 more threads\n",
      "2020-11-15 19:12:06,046 : INFO : worker thread finished; awaiting finish of 2 more threads\n",
      "2020-11-15 19:12:06,048 : INFO : worker thread finished; awaiting finish of 1 more threads\n",
      "2020-11-15 19:12:06,052 : INFO : worker thread finished; awaiting finish of 0 more threads\n",
      "2020-11-15 19:12:06,053 : INFO : EPOCH - 2 : training on 117522 raw words (101879 effective words) took 0.1s, 1710850 effective words/s\n",
      "2020-11-15 19:12:06,110 : INFO : worker thread finished; awaiting finish of 9 more threads\n",
      "2020-11-15 19:12:06,112 : INFO : worker thread finished; awaiting finish of 8 more threads\n",
      "2020-11-15 19:12:06,113 : INFO : worker thread finished; awaiting finish of 7 more threads\n",
      "2020-11-15 19:12:06,114 : INFO : worker thread finished; awaiting finish of 6 more threads\n",
      "2020-11-15 19:12:06,115 : INFO : worker thread finished; awaiting finish of 5 more threads\n",
      "2020-11-15 19:12:06,116 : INFO : worker thread finished; awaiting finish of 4 more threads\n",
      "2020-11-15 19:12:06,118 : INFO : worker thread finished; awaiting finish of 3 more threads\n",
      "2020-11-15 19:12:06,119 : INFO : worker thread finished; awaiting finish of 2 more threads\n",
      "2020-11-15 19:12:06,120 : INFO : worker thread finished; awaiting finish of 1 more threads\n",
      "2020-11-15 19:12:06,121 : INFO : worker thread finished; awaiting finish of 0 more threads\n",
      "2020-11-15 19:12:06,121 : INFO : EPOCH - 3 : training on 117522 raw words (101878 effective words) took 0.1s, 1744774 effective words/s\n",
      "2020-11-15 19:12:06,169 : INFO : worker thread finished; awaiting finish of 9 more threads\n",
      "2020-11-15 19:12:06,171 : INFO : worker thread finished; awaiting finish of 8 more threads\n",
      "2020-11-15 19:12:06,176 : INFO : worker thread finished; awaiting finish of 7 more threads\n",
      "2020-11-15 19:12:06,178 : INFO : worker thread finished; awaiting finish of 6 more threads\n",
      "2020-11-15 19:12:06,179 : INFO : worker thread finished; awaiting finish of 5 more threads\n",
      "2020-11-15 19:12:06,183 : INFO : worker thread finished; awaiting finish of 4 more threads\n",
      "2020-11-15 19:12:06,184 : INFO : worker thread finished; awaiting finish of 3 more threads\n",
      "2020-11-15 19:12:06,186 : INFO : worker thread finished; awaiting finish of 2 more threads\n",
      "2020-11-15 19:12:06,187 : INFO : worker thread finished; awaiting finish of 1 more threads\n",
      "2020-11-15 19:12:06,187 : INFO : worker thread finished; awaiting finish of 0 more threads\n",
      "2020-11-15 19:12:06,187 : INFO : EPOCH - 4 : training on 117522 raw words (101768 effective words) took 0.1s, 1850375 effective words/s\n",
      "2020-11-15 19:12:06,238 : INFO : worker thread finished; awaiting finish of 9 more threads\n",
      "2020-11-15 19:12:06,243 : INFO : worker thread finished; awaiting finish of 8 more threads\n",
      "2020-11-15 19:12:06,247 : INFO : worker thread finished; awaiting finish of 7 more threads\n",
      "2020-11-15 19:12:06,250 : INFO : worker thread finished; awaiting finish of 6 more threads\n",
      "2020-11-15 19:12:06,251 : INFO : worker thread finished; awaiting finish of 5 more threads\n",
      "2020-11-15 19:12:06,251 : INFO : worker thread finished; awaiting finish of 4 more threads\n",
      "2020-11-15 19:12:06,252 : INFO : worker thread finished; awaiting finish of 3 more threads\n",
      "2020-11-15 19:12:06,253 : INFO : worker thread finished; awaiting finish of 2 more threads\n",
      "2020-11-15 19:12:06,253 : INFO : worker thread finished; awaiting finish of 1 more threads\n",
      "2020-11-15 19:12:06,254 : INFO : worker thread finished; awaiting finish of 0 more threads\n",
      "2020-11-15 19:12:06,254 : INFO : EPOCH - 5 : training on 117522 raw words (101854 effective words) took 0.1s, 1736174 effective words/s\n",
      "2020-11-15 19:12:06,302 : INFO : worker thread finished; awaiting finish of 9 more threads\n",
      "2020-11-15 19:12:06,308 : INFO : worker thread finished; awaiting finish of 8 more threads\n",
      "2020-11-15 19:12:06,310 : INFO : worker thread finished; awaiting finish of 7 more threads\n",
      "2020-11-15 19:12:06,312 : INFO : worker thread finished; awaiting finish of 6 more threads\n",
      "2020-11-15 19:12:06,313 : INFO : worker thread finished; awaiting finish of 5 more threads\n",
      "2020-11-15 19:12:06,313 : INFO : worker thread finished; awaiting finish of 4 more threads\n",
      "2020-11-15 19:12:06,318 : INFO : worker thread finished; awaiting finish of 3 more threads\n",
      "2020-11-15 19:12:06,320 : INFO : worker thread finished; awaiting finish of 2 more threads\n",
      "2020-11-15 19:12:06,321 : INFO : worker thread finished; awaiting finish of 1 more threads\n",
      "2020-11-15 19:12:06,324 : INFO : worker thread finished; awaiting finish of 0 more threads\n",
      "2020-11-15 19:12:06,324 : INFO : EPOCH - 6 : training on 117522 raw words (101874 effective words) took 0.1s, 1921622 effective words/s\n",
      "2020-11-15 19:12:06,372 : INFO : worker thread finished; awaiting finish of 9 more threads\n",
      "2020-11-15 19:12:06,374 : INFO : worker thread finished; awaiting finish of 8 more threads\n",
      "2020-11-15 19:12:06,379 : INFO : worker thread finished; awaiting finish of 7 more threads\n",
      "2020-11-15 19:12:06,380 : INFO : worker thread finished; awaiting finish of 6 more threads\n",
      "2020-11-15 19:12:06,380 : INFO : worker thread finished; awaiting finish of 5 more threads\n",
      "2020-11-15 19:12:06,385 : INFO : worker thread finished; awaiting finish of 4 more threads\n",
      "2020-11-15 19:12:06,386 : INFO : worker thread finished; awaiting finish of 3 more threads\n",
      "2020-11-15 19:12:06,388 : INFO : worker thread finished; awaiting finish of 2 more threads\n",
      "2020-11-15 19:12:06,389 : INFO : worker thread finished; awaiting finish of 1 more threads\n",
      "2020-11-15 19:12:06,389 : INFO : worker thread finished; awaiting finish of 0 more threads\n",
      "2020-11-15 19:12:06,390 : INFO : EPOCH - 7 : training on 117522 raw words (101897 effective words) took 0.1s, 1861378 effective words/s\n",
      "2020-11-15 19:12:06,439 : INFO : worker thread finished; awaiting finish of 9 more threads\n",
      "2020-11-15 19:12:06,444 : INFO : worker thread finished; awaiting finish of 8 more threads\n",
      "2020-11-15 19:12:06,445 : INFO : worker thread finished; awaiting finish of 7 more threads\n",
      "2020-11-15 19:12:06,447 : INFO : worker thread finished; awaiting finish of 6 more threads\n",
      "2020-11-15 19:12:06,448 : INFO : worker thread finished; awaiting finish of 5 more threads\n",
      "2020-11-15 19:12:06,449 : INFO : worker thread finished; awaiting finish of 4 more threads\n",
      "2020-11-15 19:12:06,451 : INFO : worker thread finished; awaiting finish of 3 more threads\n",
      "2020-11-15 19:12:06,453 : INFO : worker thread finished; awaiting finish of 2 more threads\n",
      "2020-11-15 19:12:06,454 : INFO : worker thread finished; awaiting finish of 1 more threads\n",
      "2020-11-15 19:12:06,456 : INFO : worker thread finished; awaiting finish of 0 more threads\n",
      "2020-11-15 19:12:06,456 : INFO : EPOCH - 8 : training on 117522 raw words (101845 effective words) took 0.1s, 1726916 effective words/s\n",
      "2020-11-15 19:12:06,502 : INFO : worker thread finished; awaiting finish of 9 more threads\n",
      "2020-11-15 19:12:06,503 : INFO : worker thread finished; awaiting finish of 8 more threads\n",
      "2020-11-15 19:12:06,512 : INFO : worker thread finished; awaiting finish of 7 more threads\n",
      "2020-11-15 19:12:06,512 : INFO : worker thread finished; awaiting finish of 6 more threads\n",
      "2020-11-15 19:12:06,513 : INFO : worker thread finished; awaiting finish of 5 more threads\n",
      "2020-11-15 19:12:06,515 : INFO : worker thread finished; awaiting finish of 4 more threads\n",
      "2020-11-15 19:12:06,517 : INFO : worker thread finished; awaiting finish of 3 more threads\n",
      "2020-11-15 19:12:06,518 : INFO : worker thread finished; awaiting finish of 2 more threads\n",
      "2020-11-15 19:12:06,522 : INFO : worker thread finished; awaiting finish of 1 more threads\n",
      "2020-11-15 19:12:06,522 : INFO : worker thread finished; awaiting finish of 0 more threads\n"
     ]
    },
    {
     "name": "stderr",
     "output_type": "stream",
     "text": [
      "2020-11-15 19:12:06,523 : INFO : EPOCH - 9 : training on 117522 raw words (101836 effective words) took 0.1s, 1822408 effective words/s\n",
      "2020-11-15 19:12:06,577 : INFO : worker thread finished; awaiting finish of 9 more threads\n",
      "2020-11-15 19:12:06,579 : INFO : worker thread finished; awaiting finish of 8 more threads\n",
      "2020-11-15 19:12:06,580 : INFO : worker thread finished; awaiting finish of 7 more threads\n",
      "2020-11-15 19:12:06,581 : INFO : worker thread finished; awaiting finish of 6 more threads\n",
      "2020-11-15 19:12:06,582 : INFO : worker thread finished; awaiting finish of 5 more threads\n",
      "2020-11-15 19:12:06,583 : INFO : worker thread finished; awaiting finish of 4 more threads\n",
      "2020-11-15 19:12:06,585 : INFO : worker thread finished; awaiting finish of 3 more threads\n",
      "2020-11-15 19:12:06,585 : INFO : worker thread finished; awaiting finish of 2 more threads\n",
      "2020-11-15 19:12:06,587 : INFO : worker thread finished; awaiting finish of 1 more threads\n",
      "2020-11-15 19:12:06,589 : INFO : worker thread finished; awaiting finish of 0 more threads\n",
      "2020-11-15 19:12:06,589 : INFO : EPOCH - 10 : training on 117522 raw words (101965 effective words) took 0.1s, 1798665 effective words/s\n",
      "2020-11-15 19:12:06,590 : INFO : training on a 1175220 raw words (1018679 effective words) took 0.7s, 1508239 effective words/s\n"
     ]
    },
    {
     "data": {
      "text/plain": [
       "(1018679, 1175220)"
      ]
     },
     "execution_count": 11,
     "metadata": {},
     "output_type": "execute_result"
    }
   ],
   "source": [
    "model = gensim.models.Word2Vec(x_train, size=150, window=10, min_count=2, workers=10)\n",
    "model.train(x_train, total_examples=len(x_train), epochs=10)"
   ]
  },
  {
   "cell_type": "code",
   "execution_count": 12,
   "metadata": {},
   "outputs": [
    {
     "name": "stderr",
     "output_type": "stream",
     "text": [
      "2020-11-15 19:12:06,596 : INFO : precomputing L2-norms of word weight vectors\n"
     ]
    },
    {
     "data": {
      "text/plain": [
       "[('people', 0.95253586769104),\n",
       " ('gossiping', 0.9514404535293579),\n",
       " ('gay', 0.9339461326599121),\n",
       " ('gun', 0.9207468032836914),\n",
       " ('act', 0.9086148738861084),\n",
       " ('orlando', 0.9081928133964539),\n",
       " ('america', 0.9073865413665771),\n",
       " ('jackal', 0.9071587324142456),\n",
       " ('senseless', 0.9066610932350159),\n",
       " ('control', 0.904619574546814)]"
      ]
     },
     "execution_count": 12,
     "metadata": {},
     "output_type": "execute_result"
    }
   ],
   "source": [
    "model.wv.most_similar(positive=['hate'])"
   ]
  },
  {
   "cell_type": "code",
   "execution_count": 13,
   "metadata": {},
   "outputs": [
    {
     "data": {
      "text/plain": [
       "[('clap', 0.9058827757835388),\n",
       " ('feel', 0.9015352725982666),\n",
       " ('annoy', 0.8740800619125366),\n",
       " ('atitude', 0.8686262965202332),\n",
       " ('stomping', 0.8662048578262329),\n",
       " ('bcuz', 0.8489590883255005),\n",
       " ('queenanelisse', 0.8436598777770996),\n",
       " ('listen', 0.8404889106750488),\n",
       " ('adele', 0.83894944190979),\n",
       " ('nothing', 0.8361157774925232)]"
      ]
     },
     "execution_count": 13,
     "metadata": {},
     "output_type": "execute_result"
    }
   ],
   "source": [
    "model.wv.most_similar(positive=['like'])"
   ]
  },
  {
   "cell_type": "code",
   "execution_count": 14,
   "metadata": {},
   "outputs": [
    {
     "data": {
      "text/plain": [
       "[('out', 0.9062116146087646),\n",
       " ('daughter', 0.9028024077415466),\n",
       " ('gift', 0.8819011449813843),\n",
       " ('dedication', 0.8809494972229004),\n",
       " ('enjoy', 0.8804731965065002),\n",
       " ('shyan', 0.8715202808380127),\n",
       " ('dad', 0.870765209197998),\n",
       " ('thanku', 0.8657667636871338),\n",
       " ('horizon', 0.8652190566062927),\n",
       " ('active', 0.8631535768508911)]"
      ]
     },
     "execution_count": 14,
     "metadata": {},
     "output_type": "execute_result"
    }
   ],
   "source": [
    "model.wv.most_similar(positive=['love', 'life'], negative=['hate'])"
   ]
  },
  {
   "cell_type": "markdown",
   "metadata": {},
   "source": [
    "# Most common words used for hatred sentiments"
   ]
  },
  {
   "cell_type": "code",
   "execution_count": 15,
   "metadata": {
    "scrolled": true
   },
   "outputs": [
    {
     "name": "stderr",
     "output_type": "stream",
     "text": [
      "[nltk_data] Downloading package treebank to\n",
      "[nltk_data]     /Users/luxuzheng/nltk_data...\n",
      "[nltk_data]   Package treebank is already up-to-date!\n"
     ]
    },
    {
     "data": {
      "text/plain": [
       "True"
      ]
     },
     "execution_count": 15,
     "metadata": {},
     "output_type": "execute_result"
    }
   ],
   "source": [
    "nltk.download('treebank')"
   ]
  },
  {
   "cell_type": "code",
   "execution_count": 16,
   "metadata": {},
   "outputs": [
    {
     "name": "stdout",
     "output_type": "stream",
     "text": [
      "*** Introductory Examples for the NLTK Book ***\n",
      "Loading text1, ..., text9 and sent1, ..., sent9\n",
      "Type the name of the text or sentence to view it.\n",
      "Type: 'texts()' or 'sents()' to list the materials.\n",
      "text1: Moby Dick by Herman Melville 1851\n",
      "text2: Sense and Sensibility by Jane Austen 1811\n",
      "text3: The Book of Genesis\n",
      "text4: Inaugural Address Corpus\n",
      "text5: Chat Corpus\n",
      "text6: Monty Python and the Holy Grail\n",
      "text7: Wall Street Journal\n",
      "text8: Personals Corpus\n",
      "text9: The Man Who Was Thursday by G . K . Chesterton 1908\n"
     ]
    }
   ],
   "source": [
    "from nltk.book import FreqDist"
   ]
  },
  {
   "cell_type": "code",
   "execution_count": 17,
   "metadata": {
    "tags": []
   },
   "outputs": [],
   "source": [
    "x_train_hatred = []\n",
    "x_train_non_hatred = []\n",
    "for x, y in zip(x_train, y_train):\n",
    "    if y:\n",
    "        x_train_hatred.extend(x)\n",
    "    else:\n",
    "        x_train_non_hatred.extend(x)"
   ]
  },
  {
   "cell_type": "code",
   "execution_count": 18,
   "metadata": {
    "tags": []
   },
   "outputs": [
    {
     "data": {
      "text/plain": [
       "array([['amp', '204'],\n",
       "       ['white', '100'],\n",
       "       ['like', '94'],\n",
       "       ['woman', '74'],\n",
       "       ['racist', '70'],\n",
       "       ['black', '69'],\n",
       "       ['people', '58'],\n",
       "       ['trump', '56'],\n",
       "       ['might', '52'],\n",
       "       ['libtard', '48']], dtype='<U7')"
      ]
     },
     "execution_count": 18,
     "metadata": {},
     "output_type": "execute_result"
    }
   ],
   "source": [
    "fdist_hatred = FreqDist(x_train_hatred)\n",
    "hatred = np.array(sorted(fdist_hatred.items(), key=lambda d:d[1], reverse=True)[:10])\n",
    "hatred"
   ]
  },
  {
   "cell_type": "code",
   "execution_count": 19,
   "metadata": {},
   "outputs": [
    {
     "data": {
      "text/plain": [
       "array([['day', '1787'],\n",
       "       ['happy', '1064'],\n",
       "       ['amp', '1027'],\n",
       "       ['love', '849'],\n",
       "       ['time', '800'],\n",
       "       ['today', '713'],\n",
       "       ['get', '662'],\n",
       "       ['like', '591'],\n",
       "       ['new', '584'],\n",
       "       ['life', '564']], dtype='<U5')"
      ]
     },
     "execution_count": 19,
     "metadata": {},
     "output_type": "execute_result"
    }
   ],
   "source": [
    "fdist_non_hatred = FreqDist(x_train_non_hatred)\n",
    "non_hatred = np.array(sorted(fdist_non_hatred.items(), key=lambda d:d[1], reverse=True)[:10])\n",
    "non_hatred"
   ]
  },
  {
   "cell_type": "markdown",
   "metadata": {},
   "source": [
    "# Plot bar graph"
   ]
  },
  {
   "cell_type": "code",
   "execution_count": 20,
   "metadata": {},
   "outputs": [
    {
     "name": "stderr",
     "output_type": "stream",
     "text": [
      "2020-11-15 19:12:11,891 : INFO : Using categorical units to plot a list of strings that are all parsable as floats or dates. If these strings should be plotted as numbers, cast to the appropriate data type before plotting.\n",
      "2020-11-15 19:12:11,892 : INFO : Using categorical units to plot a list of strings that are all parsable as floats or dates. If these strings should be plotted as numbers, cast to the appropriate data type before plotting.\n",
      "2020-11-15 19:12:11,909 : INFO : Using categorical units to plot a list of strings that are all parsable as floats or dates. If these strings should be plotted as numbers, cast to the appropriate data type before plotting.\n",
      "2020-11-15 19:12:11,910 : INFO : Using categorical units to plot a list of strings that are all parsable as floats or dates. If these strings should be plotted as numbers, cast to the appropriate data type before plotting.\n"
     ]
    },
    {
     "data": {
      "image/png": "[encoded data removed]",
      "text/plain": [
       "<Figure size 1080x288 with 2 Axes>"
      ]
     },
     "metadata": {
      "needs_background": "light"
     },
     "output_type": "display_data"
    }
   ],
   "source": [
    "import matplotlib\n",
    "import matplotlib.pyplot as plt\n",
    "\n",
    "# Show plot\n",
    "fig = plt.figure(0, figsize=(15, 4))\n",
    "plt.tight_layout()\n",
    "\n",
    "# 10 common words used for hatred sentiments\n",
    "ax1 = fig.add_subplot(121)\n",
    "ax1.bar(hatred[::-1,0], hatred[::-1,1])\n",
    "ax1.set_xlabel('words')\n",
    "ax1.set_ylabel('frequency')\n",
    "ax1.set_title('10 common words used for hatred sentiments', fontsize=15)\n",
    "\n",
    "# 10 common words used for non-hatred sentiments\n",
    "ax2 = fig.add_subplot(122)\n",
    "ax2.bar(non_hatred[::-1,0], non_hatred[::-1,1])\n",
    "ax2.set_xlabel('words')\n",
    "ax2.set_ylabel('frequency')\n",
    "ax2.set_title('10 common words used for non-hatred sentiments', fontsize=15)\n",
    "\n",
    "plt.show()"
   ]
  },
  {
   "cell_type": "markdown",
   "metadata": {},
   "source": [
    "# Create features"
   ]
  },
  {
   "cell_type": "code",
   "execution_count": 21,
   "metadata": {},
   "outputs": [],
   "source": [
    "from sklearn.feature_extraction.text import CountVectorizer\n",
    "import pandas as pd\n",
    "import numpy as np\n",
    "import re\n",
    "import gensim \n",
    "import logging\n",
    "import warnings\n",
    "import nltk\n",
    "warnings.filterwarnings(\"ignore\")\n",
    "logging.basicConfig(format='%(asctime)s : %(levelname)s : %(message)s', level=logging.INFO)"
   ]
  },
  {
   "cell_type": "code",
   "execution_count": 22,
   "metadata": {},
   "outputs": [],
   "source": [
    "from nltk.corpus import stopwords\n",
    "from nltk.stem import WordNetLemmatizer\n",
    "\n",
    "def preprocess(text):\n",
    "    # Change text to lower cases\n",
    "    text = text.lower()\n",
    "    # Remove all mentions\n",
    "    text = re.sub(r'@[\\w]*', ' ', text)\n",
    "    # Remove all hashtags\n",
    "    text = re.sub(r'#[\\w]*', ' ', text)\n",
    "    # Remove non-words using regular expressions\n",
    "    text = re.sub(r'\\W+',' ', text)\n",
    "    # Remove digits\n",
    "    text= re.sub(r'\\d+', ' ', text)\n",
    "    # Remove single characters\n",
    "    text = re.sub(r'\\s+[a-zA-Z]\\s+', ' ', text)\n",
    "    review = re.sub(r'^[a-zA-Z]\\s+', ' ', text)\n",
    "    review = re.sub(r'\\s+[a-zA-Z]$', ' ', text)\n",
    "    # Remove all non-alphanumeric chars\n",
    "    text = re.sub(r'[^a-zA-Z\\s]', ' ', text)\n",
    "    # Remove extra spaces\n",
    "    text = re.sub(r'\\s+', ' ', text)\n",
    "    text = re.sub(r'^\\s', '', text)\n",
    "    text = re.sub(r'\\s$', '', text)\n",
    "    # Remove stop words and capture semantically related words\n",
    "    lemmatizer = WordNetLemmatizer()\n",
    "    text = [lemmatizer.lemmatize(w) for w in text.split() if w not in stopwords.words('english')]\n",
    "    return ' '.join(text)"
   ]
  },
  {
   "cell_type": "code",
   "execution_count": 23,
   "metadata": {},
   "outputs": [
    {
     "name": "stdout",
     "output_type": "stream",
     "text": [
      "21962 10000\n"
     ]
    }
   ],
   "source": [
    "df_train = pd.read_csv('train.csv')\n",
    "df_test = pd.read_csv('test.csv')\n",
    "x_test = [preprocess(x) for x in df_test['tweet']]\n",
    "x_train = [preprocess(x) for x in df_train['tweet']]\n",
    "y_train = df_train['label']\n",
    "y_test = df_test['label']\n",
    "print(len(y_train), len(y_test))"
   ]
  },
  {
   "cell_type": "markdown",
   "metadata": {},
   "source": [
    "# Binary Bag-of-word features"
   ]
  },
  {
   "cell_type": "code",
   "execution_count": 24,
   "metadata": {
    "scrolled": true
   },
   "outputs": [
    {
     "name": "stdout",
     "output_type": "stream",
     "text": [
      "(21962, 15536) (10000, 15536)\n"
     ]
    }
   ],
   "source": [
    "vectorizer = CountVectorizer()\n",
    "vectorizer.fit(x_train)\n",
    "x_train_bag_word = np.where(vectorizer.transform(x_train).toarray() >= 1, 1, 0)\n",
    "x_test_bag_word = np.where(vectorizer.transform(x_test).toarray() >= 1, 1, 0)\n",
    "print(x_train_bag_word.shape, x_test_bag_word.shape)"
   ]
  },
  {
   "cell_type": "markdown",
   "metadata": {},
   "source": [
    "# Binary Bag-of-unigram features"
   ]
  },
  {
   "cell_type": "code",
   "execution_count": 25,
   "metadata": {},
   "outputs": [
    {
     "name": "stdout",
     "output_type": "stream",
     "text": [
      "(21962, 15557) (10000, 15557)\n"
     ]
    }
   ],
   "source": [
    "unigram_vectorizer = CountVectorizer(ngram_range=(1, 1), token_pattern=r'\\b\\w+\\b', min_df=1)\n",
    "unigram_vectorizer.fit(x_train)\n",
    "x_train_bag_unigram = unigram_vectorizer.transform(x_train).toarray()\n",
    "x_train_bag_unigram = np.where(x_train_bag_unigram >= 1, 1, 0)\n",
    "x_test_bag_unigram = unigram_vectorizer.transform(x_test).toarray()\n",
    "x_test_bag_unigram = np.where(x_test_bag_unigram >= 1, 1, 0)\n",
    "print(x_train_bag_unigram.shape, x_test_bag_unigram.shape)"
   ]
  },
  {
   "cell_type": "markdown",
   "metadata": {},
   "source": [
    "# Binary Bag-of-bigram features"
   ]
  },
  {
   "cell_type": "code",
   "execution_count": 26,
   "metadata": {},
   "outputs": [
    {
     "name": "stdout",
     "output_type": "stream",
     "text": [
      "(21962, 71747) (10000, 71747)\n"
     ]
    }
   ],
   "source": [
    "bigram_vectorizer = CountVectorizer(ngram_range=(2, 2), token_pattern=r'\\b\\w+\\b', min_df=1)\n",
    "bigram_vectorizer.fit(x_train)\n",
    "x_train_bag_bigram = bigram_vectorizer.transform(x_train).toarray()\n",
    "x_train_bag_bigram = np.where(x_train_bag_bigram >= 1, 1, 0)\n",
    "x_test_bag_bigram = bigram_vectorizer.transform(x_test).toarray()\n",
    "x_test_bag_bigram = np.where(x_test_bag_bigram >= 1, 1, 0)\n",
    "print(x_train_bag_bigram.shape, x_test_bag_bigram.shape)"
   ]
  },
  {
   "cell_type": "markdown",
   "metadata": {},
   "source": [
    "# Binary Bag-of-ngram features (both unigrams and bigrams)"
   ]
  },
  {
   "cell_type": "code",
   "execution_count": 27,
   "metadata": {},
   "outputs": [
    {
     "name": "stdout",
     "output_type": "stream",
     "text": [
      "(21962, 87304) (10000, 87304)\n"
     ]
    }
   ],
   "source": [
    "ngram_vectorizer = CountVectorizer(ngram_range=(1, 2), token_pattern=r'\\b\\w+\\b', min_df=1)\n",
    "ngram_vectorizer.fit(x_train)\n",
    "x_train_bag_ngram = ngram_vectorizer.transform(x_train).toarray()\n",
    "x_train_bag_ngram = np.where(x_train_bag_ngram >= 1, 1, 0)\n",
    "x_test_bag_ngram = ngram_vectorizer.transform(x_test).toarray()\n",
    "x_test_bag_ngram = np.where(x_test_bag_ngram >= 1, 1, 0)\n",
    "print(x_train_bag_ngram.shape, x_test_bag_ngram.shape)"
   ]
  },
  {
   "cell_type": "markdown",
   "metadata": {},
   "source": [
    "# Naive Bayes Classifier\n",
    "## binary bag-of-unigrams features"
   ]
  },
  {
   "cell_type": "code",
   "execution_count": 28,
   "metadata": {},
   "outputs": [],
   "source": [
    "from sklearn import datasets\n",
    "from sklearn.naive_bayes import MultinomialNB\n",
    "from sklearn.metrics import f1_score, accuracy_score"
   ]
  },
  {
   "cell_type": "code",
   "execution_count": 29,
   "metadata": {},
   "outputs": [
    {
     "data": {
      "text/plain": [
       "MultinomialNB(alpha=1, class_prior=None, fit_prior=True)"
      ]
     },
     "execution_count": 29,
     "metadata": {},
     "output_type": "execute_result"
    }
   ],
   "source": [
    "clf = MultinomialNB(alpha=1)\n",
    "clf.fit(x_train_bag_unigram, y_train)"
   ]
  },
  {
   "cell_type": "code",
   "execution_count": 30,
   "metadata": {},
   "outputs": [
    {
     "name": "stdout",
     "output_type": "stream",
     "text": [
      "F1 Score: 0.7160\n",
      "Accuracy: 94.44%\n"
     ]
    }
   ],
   "source": [
    "y_pred = clf.predict(x_test_bag_unigram)\n",
    "print('F1 Score: {:.4f}'.format(f1_score(y_test, y_pred, average='macro')))\n",
    "print('Accuracy: {:.2f}%'.format(accuracy_score(y_test, y_pred) * 100))"
   ]
  },
  {
   "cell_type": "markdown",
   "metadata": {},
   "source": [
    "## binary bag-of-bigrams features"
   ]
  },
  {
   "cell_type": "code",
   "execution_count": 31,
   "metadata": {},
   "outputs": [
    {
     "data": {
      "text/plain": [
       "MultinomialNB(alpha=1, class_prior=None, fit_prior=True)"
      ]
     },
     "execution_count": 31,
     "metadata": {},
     "output_type": "execute_result"
    }
   ],
   "source": [
    "clf = MultinomialNB(alpha=1)\n",
    "clf.fit(x_train_bag_bigram, y_train)"
   ]
  },
  {
   "cell_type": "code",
   "execution_count": 32,
   "metadata": {},
   "outputs": [
    {
     "name": "stdout",
     "output_type": "stream",
     "text": [
      "F1 Score: 0.7117\n",
      "Accuracy: 94.85%\n"
     ]
    }
   ],
   "source": [
    "y_pred = clf.predict(x_test_bag_bigram)\n",
    "print('F1 Score: {:.4f}'.format(f1_score(y_test, y_pred, average='macro')))\n",
    "print('Accuracy: {:.2f}%'.format(accuracy_score(y_test, y_pred) * 100))"
   ]
  },
  {
   "cell_type": "markdown",
   "metadata": {},
   "source": [
    "## binary bag-of-ngrams features (both unigrams and bigrams)"
   ]
  },
  {
   "cell_type": "code",
   "execution_count": 33,
   "metadata": {},
   "outputs": [
    {
     "data": {
      "text/plain": [
       "MultinomialNB(alpha=1, class_prior=None, fit_prior=True)"
      ]
     },
     "execution_count": 33,
     "metadata": {},
     "output_type": "execute_result"
    }
   ],
   "source": [
    "clf = MultinomialNB(alpha=1)\n",
    "clf.fit(x_train_bag_ngram, y_train)"
   ]
  },
  {
   "cell_type": "code",
   "execution_count": 34,
   "metadata": {},
   "outputs": [
    {
     "name": "stdout",
     "output_type": "stream",
     "text": [
      "F1 Score: 0.7218\n",
      "Accuracy: 94.95%\n"
     ]
    }
   ],
   "source": [
    "y_pred = clf.predict(x_test_bag_ngram)\n",
    "print('F1 Score: {:.4f}'.format(f1_score(y_test, y_pred, average='macro')))\n",
    "print('Accuracy: {:.2f}%'.format(accuracy_score(y_test, y_pred) * 100))"
   ]
  },
  {
   "cell_type": "markdown",
   "metadata": {},
   "source": [
    "# Logistic Regression\n",
    "## binary bag-of-words features"
   ]
  },
  {
   "cell_type": "code",
   "execution_count": 35,
   "metadata": {},
   "outputs": [],
   "source": [
    "from sklearn.linear_model import LogisticRegression"
   ]
  },
  {
   "cell_type": "code",
   "execution_count": 36,
   "metadata": {},
   "outputs": [
    {
     "data": {
      "text/plain": [
       "LogisticRegression(C=1.0, class_weight=None, dual=False, fit_intercept=True,\n",
       "                   intercept_scaling=1, l1_ratio=None, max_iter=100,\n",
       "                   multi_class='auto', n_jobs=None, penalty='l2',\n",
       "                   random_state=None, solver='lbfgs', tol=0.0001, verbose=0,\n",
       "                   warm_start=False)"
      ]
     },
     "execution_count": 36,
     "metadata": {},
     "output_type": "execute_result"
    }
   ],
   "source": [
    "clf = LogisticRegression(penalty='l2')\n",
    "clf.fit(x_train_bag_word, y_train)"
   ]
  },
  {
   "cell_type": "code",
   "execution_count": 37,
   "metadata": {
    "scrolled": true
   },
   "outputs": [
    {
     "name": "stdout",
     "output_type": "stream",
     "text": [
      "F1 Score: 0.7281\n",
      "Accuracy: 94.75%\n"
     ]
    }
   ],
   "source": [
    "y_pred = clf.predict(x_test_bag_word)\n",
    "print('F1 Score: {:.4f}'.format(f1_score(y_test, y_pred, average='macro')))\n",
    "print('Accuracy: {:.2f}%'.format(accuracy_score(y_test, y_pred) * 100))"
   ]
  },
  {
   "cell_type": "markdown",
   "metadata": {},
   "source": [
    "## binary bag-of-unigrams features"
   ]
  },
  {
   "cell_type": "code",
   "execution_count": 38,
   "metadata": {},
   "outputs": [],
   "source": [
    "from sklearn.linear_model import LogisticRegression"
   ]
  },
  {
   "cell_type": "code",
   "execution_count": 39,
   "metadata": {},
   "outputs": [
    {
     "data": {
      "text/plain": [
       "LogisticRegression(C=1.0, class_weight=None, dual=False, fit_intercept=True,\n",
       "                   intercept_scaling=1, l1_ratio=None, max_iter=100,\n",
       "                   multi_class='auto', n_jobs=None, penalty='l2',\n",
       "                   random_state=None, solver='lbfgs', tol=0.0001, verbose=0,\n",
       "                   warm_start=False)"
      ]
     },
     "execution_count": 39,
     "metadata": {},
     "output_type": "execute_result"
    }
   ],
   "source": [
    "clf = LogisticRegression(penalty='l2')\n",
    "clf.fit(x_train_bag_unigram, y_train)"
   ]
  },
  {
   "cell_type": "code",
   "execution_count": 40,
   "metadata": {},
   "outputs": [
    {
     "name": "stdout",
     "output_type": "stream",
     "text": [
      "F1 Score: 0.7270\n",
      "Accuracy: 94.73%\n"
     ]
    }
   ],
   "source": [
    "y_pred = clf.predict(x_test_bag_unigram)\n",
    "print('F1 Score: {:.4f}'.format(f1_score(y_test, y_pred, average='macro')))\n",
    "print('Accuracy: {:.2f}%'.format(accuracy_score(y_test, y_pred) * 100))"
   ]
  },
  {
   "cell_type": "markdown",
   "metadata": {},
   "source": [
    "## binary bag-of-bigrams features"
   ]
  },
  {
   "cell_type": "code",
   "execution_count": 41,
   "metadata": {},
   "outputs": [
    {
     "data": {
      "text/plain": [
       "LogisticRegression(C=1.0, class_weight=None, dual=False, fit_intercept=True,\n",
       "                   intercept_scaling=1, l1_ratio=None, max_iter=100,\n",
       "                   multi_class='auto', n_jobs=None, penalty='l2',\n",
       "                   random_state=None, solver='lbfgs', tol=0.0001, verbose=0,\n",
       "                   warm_start=False)"
      ]
     },
     "execution_count": 41,
     "metadata": {},
     "output_type": "execute_result"
    }
   ],
   "source": [
    "clf = LogisticRegression(penalty='l2')\n",
    "clf.fit(x_train_bag_bigram, y_train)"
   ]
  },
  {
   "cell_type": "code",
   "execution_count": 42,
   "metadata": {},
   "outputs": [
    {
     "name": "stdout",
     "output_type": "stream",
     "text": [
      "F1 Score: 0.6482\n",
      "Accuracy: 94.19%\n"
     ]
    }
   ],
   "source": [
    "y_pred = clf.predict(x_test_bag_bigram)\n",
    "print('F1 Score: {:.4f}'.format(f1_score(y_test, y_pred, average='macro')))\n",
    "print('Accuracy: {:.2f}%'.format(accuracy_score(y_test, y_pred) * 100))"
   ]
  },
  {
   "cell_type": "markdown",
   "metadata": {},
   "source": [
    "## binary bag-of-ngrams features (both unigrams and bigrams)"
   ]
  },
  {
   "cell_type": "code",
   "execution_count": 43,
   "metadata": {},
   "outputs": [
    {
     "data": {
      "text/plain": [
       "LogisticRegression(C=1.0, class_weight=None, dual=False, fit_intercept=True,\n",
       "                   intercept_scaling=1, l1_ratio=None, max_iter=100,\n",
       "                   multi_class='auto', n_jobs=None, penalty='l2',\n",
       "                   random_state=None, solver='lbfgs', tol=0.0001, verbose=0,\n",
       "                   warm_start=False)"
      ]
     },
     "execution_count": 43,
     "metadata": {},
     "output_type": "execute_result"
    }
   ],
   "source": [
    "clf = LogisticRegression(penalty='l2')\n",
    "clf.fit(x_train_bag_ngram, y_train)"
   ]
  },
  {
   "cell_type": "code",
   "execution_count": 44,
   "metadata": {},
   "outputs": [
    {
     "name": "stdout",
     "output_type": "stream",
     "text": [
      "F1 Score: 0.7399\n",
      "Accuracy: 95.02%\n"
     ]
    }
   ],
   "source": [
    "y_pred = clf.predict(x_test_bag_ngram)\n",
    "print('F1 Score: {:.4f}'.format(f1_score(y_test, y_pred, average='macro')))\n",
    "print('Accuracy: {:.2f}%'.format(accuracy_score(y_test, y_pred) * 100))"
   ]
  },
  {
   "cell_type": "markdown",
   "metadata": {},
   "source": [
    "# A logistic regression classifier with Naïve Bayes features\n",
    "## Get log-count ratio vector of bag-of-words features"
   ]
  },
  {
   "cell_type": "code",
   "execution_count": 45,
   "metadata": {},
   "outputs": [],
   "source": [
    "p = np.ones(x_train_bag_word.shape[1])\n",
    "q =  np.ones(x_train_bag_word.shape[1])\n",
    "for x, y in zip(x_train_bag_word, y_train):\n",
    "    if y == 1:\n",
    "        p += x\n",
    "    else:\n",
    "        q += x"
   ]
  },
  {
   "cell_type": "code",
   "execution_count": 46,
   "metadata": {},
   "outputs": [],
   "source": [
    "r = np.log((p/p.sum())/(q/q.sum()))"
   ]
  },
  {
   "cell_type": "markdown",
   "metadata": {},
   "source": [
    "## Element-wise product of the logcount ratio vector and  bag-of-words features"
   ]
  },
  {
   "cell_type": "code",
   "execution_count": 47,
   "metadata": {},
   "outputs": [],
   "source": [
    "x_train_bag_word_nb = np.multiply(x_train_bag_word, r)\n",
    "x_test_bag_word_nb = np.multiply(x_test_bag_word, r)"
   ]
  },
  {
   "cell_type": "markdown",
   "metadata": {},
   "source": [
    "## Get log-count ratio vector of bag-of-ngrams features (both unigrams and bigrams)"
   ]
  },
  {
   "cell_type": "code",
   "execution_count": 48,
   "metadata": {},
   "outputs": [],
   "source": [
    "p = np.ones(x_train_bag_ngram.shape[1])\n",
    "q =  np.ones(x_train_bag_ngram.shape[1])\n",
    "for x, y in zip(x_train_bag_ngram, y_train):\n",
    "    if y == 1:\n",
    "        p += x\n",
    "    else:\n",
    "        q += x"
   ]
  },
  {
   "cell_type": "code",
   "execution_count": 49,
   "metadata": {},
   "outputs": [],
   "source": [
    "r = np.log((p/p.sum())/(q/q.sum()))"
   ]
  },
  {
   "cell_type": "markdown",
   "metadata": {},
   "source": [
    "## Element-wise product of the logcount ratio vector and bag-of-ngrams features"
   ]
  },
  {
   "cell_type": "code",
   "execution_count": 50,
   "metadata": {},
   "outputs": [],
   "source": [
    "x_train_bag_ngram_nb = np.multiply(x_train_bag_ngram, r)\n",
    "x_test_bag_ngram_nb = np.multiply(x_test_bag_ngram, r)"
   ]
  },
  {
   "cell_type": "markdown",
   "metadata": {},
   "source": [
    "# Logistic Regression (with Naïve Bayes features)\n",
    "## bag-of-words features"
   ]
  },
  {
   "cell_type": "code",
   "execution_count": 51,
   "metadata": {},
   "outputs": [
    {
     "data": {
      "text/plain": [
       "LogisticRegression(C=1.0, class_weight=None, dual=False, fit_intercept=True,\n",
       "                   intercept_scaling=1, l1_ratio=None, max_iter=100,\n",
       "                   multi_class='auto', n_jobs=None, penalty='l2',\n",
       "                   random_state=None, solver='lbfgs', tol=0.0001, verbose=0,\n",
       "                   warm_start=False)"
      ]
     },
     "execution_count": 51,
     "metadata": {},
     "output_type": "execute_result"
    }
   ],
   "source": [
    "clf = LogisticRegression(penalty='l2')\n",
    "clf.fit(x_train_bag_word_nb, y_train)"
   ]
  },
  {
   "cell_type": "code",
   "execution_count": 52,
   "metadata": {},
   "outputs": [
    {
     "name": "stdout",
     "output_type": "stream",
     "text": [
      "F1 Score: 0.7462\n",
      "Accuracy: 94.99%\n"
     ]
    }
   ],
   "source": [
    "y_pred = clf.predict(x_test_bag_word_nb)\n",
    "print('F1 Score: {:.4f}'.format(f1_score(y_test, y_pred, average='macro')))\n",
    "print('Accuracy: {:.2f}%'.format(accuracy_score(y_test, y_pred) * 100))"
   ]
  },
  {
   "cell_type": "markdown",
   "metadata": {},
   "source": [
    "## bag-of-ngrams features (both unigrams and bigrams)"
   ]
  },
  {
   "cell_type": "code",
   "execution_count": 53,
   "metadata": {},
   "outputs": [
    {
     "data": {
      "text/plain": [
       "LogisticRegression(C=1.0, class_weight=None, dual=False, fit_intercept=True,\n",
       "                   intercept_scaling=1, l1_ratio=None, max_iter=100,\n",
       "                   multi_class='auto', n_jobs=None, penalty='l2',\n",
       "                   random_state=None, solver='lbfgs', tol=0.0001, verbose=0,\n",
       "                   warm_start=False)"
      ]
     },
     "execution_count": 53,
     "metadata": {},
     "output_type": "execute_result"
    }
   ],
   "source": [
    "clf = LogisticRegression(penalty='l2')\n",
    "clf.fit(x_train_bag_ngram_nb, y_train)"
   ]
  },
  {
   "cell_type": "code",
   "execution_count": 54,
   "metadata": {},
   "outputs": [
    {
     "name": "stdout",
     "output_type": "stream",
     "text": [
      "F1 Score: 0.7481\n",
      "Accuracy: 95.26%\n"
     ]
    }
   ],
   "source": [
    "y_pred = clf.predict(x_test_bag_ngram_nb)\n",
    "print('F1 Score: {:.4f}'.format(f1_score(y_test, y_pred, average='macro')))\n",
    "print('Accuracy: {:.2f}%'.format(accuracy_score(y_test, y_pred) * 100))"
   ]
  }
 ],
 "metadata": {
  "kernelspec": {
   "display_name": "Python 3",
   "language": "python",
   "name": "python3"
  },
  "language_info": {
   "codemirror_mode": {
    "name": "ipython",
    "version": 3
   },
   "file_extension": ".py",
   "mimetype": "text/x-python",
   "name": "python",
   "nbconvert_exporter": "python",
   "pygments_lexer": "ipython3",
   "version": "3.7.7"
  }
 },
 "nbformat": 4,
 "nbformat_minor": 2
}
